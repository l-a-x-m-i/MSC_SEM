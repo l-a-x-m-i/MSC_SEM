{
 "cells": [
  {
   "cell_type": "markdown",
   "id": "93fe2c57",
   "metadata": {},
   "source": [
    "# Conditional Probability "
   ]
  },
  {
   "cell_type": "code",
   "execution_count": 14,
   "id": "8bb93d04",
   "metadata": {},
   "outputs": [
    {
     "data": {
      "text/html": [
       "<div>\n",
       "<style scoped>\n",
       "    .dataframe tbody tr th:only-of-type {\n",
       "        vertical-align: middle;\n",
       "    }\n",
       "\n",
       "    .dataframe tbody tr th {\n",
       "        vertical-align: top;\n",
       "    }\n",
       "\n",
       "    .dataframe thead th {\n",
       "        text-align: right;\n",
       "    }\n",
       "</style>\n",
       "<table border=\"1\" class=\"dataframe\">\n",
       "  <thead>\n",
       "    <tr style=\"text-align: right;\">\n",
       "      <th>sport</th>\n",
       "      <th>Baseball</th>\n",
       "      <th>Basketball</th>\n",
       "      <th>Football</th>\n",
       "      <th>Soccer</th>\n",
       "      <th>All</th>\n",
       "    </tr>\n",
       "    <tr>\n",
       "      <th>gender</th>\n",
       "      <th></th>\n",
       "      <th></th>\n",
       "      <th></th>\n",
       "      <th></th>\n",
       "      <th></th>\n",
       "    </tr>\n",
       "  </thead>\n",
       "  <tbody>\n",
       "    <tr>\n",
       "      <th>Female</th>\n",
       "      <td>34</td>\n",
       "      <td>52</td>\n",
       "      <td>20</td>\n",
       "      <td>44</td>\n",
       "      <td>150</td>\n",
       "    </tr>\n",
       "    <tr>\n",
       "      <th>Male</th>\n",
       "      <td>34</td>\n",
       "      <td>40</td>\n",
       "      <td>58</td>\n",
       "      <td>18</td>\n",
       "      <td>150</td>\n",
       "    </tr>\n",
       "    <tr>\n",
       "      <th>All</th>\n",
       "      <td>68</td>\n",
       "      <td>92</td>\n",
       "      <td>78</td>\n",
       "      <td>62</td>\n",
       "      <td>300</td>\n",
       "    </tr>\n",
       "  </tbody>\n",
       "</table>\n",
       "</div>"
      ],
      "text/plain": [
       "sport   Baseball  Basketball  Football  Soccer  All\n",
       "gender                                             \n",
       "Female        34          52        20      44  150\n",
       "Male          34          40        58      18  150\n",
       "All           68          92        78      62  300"
      ]
     },
     "execution_count": 14,
     "metadata": {},
     "output_type": "execute_result"
    }
   ],
   "source": [
    "import pandas as pd\n",
    "import numpy as np\n",
    "\n",
    "#create pandas DataFrame with raw data\n",
    "df = pd.DataFrame({'gender': np.repeat(np.array(['Male', 'Female']), 150),\n",
    "                   'sport': np.repeat(np.array(['Baseball', 'Basketball', 'Football',\n",
    "                                                'Soccer', 'Baseball', 'Basketball',\n",
    "                                                'Football', 'Soccer']), \n",
    "                                    (34, 40, 58, 18, 34, 52, 20, 44))})\n",
    "\n",
    "#produce contingency table to summarize raw data\n",
    "survey_data = pd.crosstab(index=df['gender'], columns=df['sport'], margins=True)\n",
    "\n",
    "#view contingency table\n",
    "survey_data"
   ]
  },
  {
   "cell_type": "markdown",
   "id": "787f6576",
   "metadata": {},
   "source": [
    "extract value in second row and first column "
   ]
  },
  {
   "cell_type": "code",
   "execution_count": 15,
   "id": "89862931",
   "metadata": {},
   "outputs": [
    {
     "data": {
      "text/plain": [
       "34"
      ]
     },
     "execution_count": 15,
     "metadata": {},
     "output_type": "execute_result"
    }
   ],
   "source": [
    " \n",
    "survey_data.iloc[1, 0]"
   ]
  },
  {
   "cell_type": "markdown",
   "id": "e52290c5",
   "metadata": {},
   "source": [
    "calculate probability of being male, given that individual prefers baseball"
   ]
  },
  {
   "cell_type": "code",
   "execution_count": 16,
   "id": "d9dd60a2",
   "metadata": {},
   "outputs": [
    {
     "data": {
      "text/plain": [
       "0.5"
      ]
     },
     "execution_count": 16,
     "metadata": {},
     "output_type": "execute_result"
    }
   ],
   "source": [
    "\n",
    "survey_data.iloc[1, 0] / survey_data.iloc[2, 0]"
   ]
  },
  {
   "cell_type": "markdown",
   "id": "be0da9e8",
   "metadata": {},
   "source": [
    "calculate probability of preferring basketball, given that individual is female"
   ]
  },
  {
   "cell_type": "code",
   "execution_count": 17,
   "id": "a75a781f",
   "metadata": {},
   "outputs": [
    {
     "data": {
      "text/plain": [
       "0.3466666666666667"
      ]
     },
     "execution_count": 17,
     "metadata": {},
     "output_type": "execute_result"
    }
   ],
   "source": [
    "\n",
    "survey_data.iloc[0, 1] / survey_data.iloc[0, 4]"
   ]
  },
  {
   "cell_type": "code",
   "execution_count": null,
   "id": "6a60eb47",
   "metadata": {},
   "outputs": [],
   "source": []
  }
 ],
 "metadata": {
  "kernelspec": {
   "display_name": "Python 3 (ipykernel)",
   "language": "python",
   "name": "python3"
  },
  "language_info": {
   "codemirror_mode": {
    "name": "ipython",
    "version": 3
   },
   "file_extension": ".py",
   "mimetype": "text/x-python",
   "name": "python",
   "nbconvert_exporter": "python",
   "pygments_lexer": "ipython3",
   "version": "3.8.8"
  }
 },
 "nbformat": 4,
 "nbformat_minor": 5
}
