{
 "cells": [
  {
   "cell_type": "markdown",
   "id": "bb31eb60",
   "metadata": {},
   "source": [
    "# Write a Program for found a subset with given sum"
   ]
  },
  {
   "cell_type": "code",
   "execution_count": 1,
   "id": "6cbb5ed9",
   "metadata": {},
   "outputs": [
    {
     "name": "stdout",
     "output_type": "stream",
     "text": [
      "Found a subset with given sum\n"
     ]
    }
   ],
   "source": [
    "# A recursive solution for subset sum \n",
    "# problem \n",
    "  \n",
    "# Returns true if there is a subset  \n",
    "# of set[] with sun equal to given sum \n",
    "def isSubsetSum(set,n, sum) : \n",
    "    \n",
    "    # Base Cases \n",
    "    if (sum == 0) : \n",
    "        return True\n",
    "    if (n == 0 and sum != 0) : \n",
    "        return False\n",
    "   \n",
    "    # If last element is greater than \n",
    "    # sum, then ignore it \n",
    "    if (set[n - 1] > sum) : \n",
    "        return isSubsetSum(set, n - 1, sum); \n",
    "   \n",
    "    # else, check if sum can be obtained \n",
    "    # by any of the following \n",
    "    # (a) including the last element \n",
    "    # (b) excluding the last element    \n",
    "    return isSubsetSum(set, n-1, sum) or isSubsetSum(set, n-1, sum-set[n-1]) \n",
    "      \n",
    "      \n",
    "# Driver program to test above function \n",
    "set = [3, 34, 4, 12, 5, 2] \n",
    "sum = 9\n",
    "n = len(set) \n",
    "if (isSubsetSum(set, n, sum) == True) : \n",
    "    print(\"Found a subset with given sum\") \n",
    "else : \n",
    "    print(\"No subset with given sum\") \n",
    "\n"
   ]
  }
 ],
 "metadata": {
  "kernelspec": {
   "display_name": "Python 3 (ipykernel)",
   "language": "python",
   "name": "python3"
  },
  "language_info": {
   "codemirror_mode": {
    "name": "ipython",
    "version": 3
   },
   "file_extension": ".py",
   "mimetype": "text/x-python",
   "name": "python",
   "nbconvert_exporter": "python",
   "pygments_lexer": "ipython3",
   "version": "3.8.8"
  }
 },
 "nbformat": 4,
 "nbformat_minor": 5
}
