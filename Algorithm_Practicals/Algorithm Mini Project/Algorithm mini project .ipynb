{
 "cells": [
  {
   "cell_type": "markdown",
   "id": "408e3faa",
   "metadata": {},
   "source": [
    "# Quick Sort "
   ]
  },
  {
   "cell_type": "markdown",
   "id": "bc2f0695",
   "metadata": {},
   "source": [
    "QuickSort is a Divide and Conquer algorithm. It picks an element as pivot and partitions the given array around \n",
    "the picked pivot.\n",
    "There are many different versions of quickSort that pick pivot in different ways. \n",
    "\n",
    "Always pick first element as pivot.\n",
    "Always pick last element as pivot (implemented below)\n",
    "Pick a random element as pivot.\n",
    "Pick median as pivot.\n",
    "The key process in quickSort is partition(). Target of partitions is, given an array and an element x of array \n",
    "as pivot, put x at its correct position in sorted array and put all smaller elements (smaller than x) before x, \n",
    "and put all greater elements (greater than x) after x. All this should be done in linear time."
   ]
  },
  {
   "cell_type": "code",
   "execution_count": 1,
   "id": "421de6cb",
   "metadata": {},
   "outputs": [
    {
     "name": "stdout",
     "output_type": "stream",
     "text": [
      "Sorted array: [8, 17, 24, 32, 45, 58]\n"
     ]
    }
   ],
   "source": [
    "def partition(start, end, array):\n",
    "    pivot_index = start \n",
    "    pivot = array[pivot_index]\n",
    "    while start < end:\n",
    "        while start < len(array) and array[start] <= pivot:\n",
    "            start += 1\n",
    "              \n",
    "        \n",
    "        while array[end] > pivot:\n",
    "            end -= 1\n",
    "          \n",
    "        \n",
    "        if(start < end):\n",
    "            array[start], array[end] = array[end], array[start]\n",
    "      \n",
    "\n",
    "    array[end], array[pivot_index] = array[pivot_index], array[end]\n",
    "     \n",
    "\n",
    "    return end\n",
    "    \n",
    "    \n",
    "def quick_sort(start, end, array):\n",
    "      \n",
    "    if (start < end):\n",
    "          \n",
    "        \n",
    "        p = partition(start, end, array)\n",
    "          \n",
    "        \n",
    "        quick_sort(start, p - 1, array)\n",
    "        quick_sort(p + 1, end, array)\n",
    "          \n",
    "# Driver code\n",
    "array = [ 45, 17, 32, 58, 24, 8 ]\n",
    "quick_sort(0, len(array) - 1, array)\n",
    "  \n",
    "print(f'Sorted array: {array}')\n",
    "      "
   ]
  },
  {
   "cell_type": "markdown",
   "id": "5a9037b0",
   "metadata": {},
   "source": [
    "# Maximum Subarray Problem"
   ]
  },
  {
   "cell_type": "markdown",
   "id": "a1e7e130",
   "metadata": {},
   "source": [
    "The maximum subarray problem is a task to find the series of contiguous elements with the maximum sum in any given array. In this tutorial, we'll take a look at two solutions for finding the maximum subarray in an array. One of which we'll design with O(n) time and space complexity."
   ]
  },
  {
   "cell_type": "code",
   "execution_count": 5,
   "id": "8acf2a9c",
   "metadata": {},
   "outputs": [
    {
     "name": "stdout",
     "output_type": "stream",
     "text": [
      "Maximum contiguous sum is 14\n"
     ]
    }
   ],
   "source": [
    "def maxSubArraySum(a,size):\n",
    "     \n",
    "    max_so_far =a[0]\n",
    "    curr_max = a[0]\n",
    "     \n",
    "    for i in range(1,size):\n",
    "        curr_max = max(a[i], curr_max + a[i])\n",
    "        max_so_far = max(max_so_far,curr_max)\n",
    "         \n",
    "    return max_so_far\n",
    " \n",
    "# Driver function to check the above function\n",
    "a = [-12, -30, 8, -1, 2, 5, -17]\n",
    "print(\"Maximum contiguous sum is\" , maxSubArraySum(a,len(a)))"
   ]
  },
  {
   "cell_type": "code",
   "execution_count": null,
   "id": "077be383",
   "metadata": {},
   "outputs": [],
   "source": []
  }
 ],
 "metadata": {
  "kernelspec": {
   "display_name": "Python 3 (ipykernel)",
   "language": "python",
   "name": "python3"
  },
  "language_info": {
   "codemirror_mode": {
    "name": "ipython",
    "version": 3
   },
   "file_extension": ".py",
   "mimetype": "text/x-python",
   "name": "python",
   "nbconvert_exporter": "python",
   "pygments_lexer": "ipython3",
   "version": "3.8.8"
  }
 },
 "nbformat": 4,
 "nbformat_minor": 5
}
