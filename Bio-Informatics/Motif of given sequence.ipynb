{
 "cells": [
  {
   "cell_type": "markdown",
   "id": "4f6cc917",
   "metadata": {},
   "source": [
    "Aim: Write a Python/Java code to find motif in a given sequence. "
   ]
  },
  {
   "cell_type": "code",
   "execution_count": 1,
   "id": "cedf84c7",
   "metadata": {},
   "outputs": [
    {
     "name": "stdout",
     "output_type": "stream",
     "text": [
      "Enter the length of motif6\n",
      "Sequence TCGAGAGTATATGTTGTTGAACGTTATTGTTTGAGAAATAGTTGATGCATCAGAATGGTTTGCATTTAT\n",
      "Size of the sequence 69\n",
      "Position 61\n",
      "Motif GCATTT\n"
     ]
    }
   ],
   "source": [
    "import random\n",
    "l=int(input(\"Enter the length of motif\"))\n",
    "file=open(\"C://Users//Akshay//Desktop//Bio-Informatics//gene.txt\",\"r\")\n",
    "r=file.read()\n",
    "print(\"Sequence\",r)\n",
    "size=len(r)\n",
    "print(\"Size of the sequence\",size)\n",
    "pos=random.randint(0,len(r)-5)\n",
    "#pos=1\n",
    "print(\"Position\",pos)\n",
    "motif=r[pos:pos+l]\n",
    "print(\"Motif\",motif)\n",
    "i=pos+1\n",
    "while(i<=size-1):\n",
    "    if(motif==r[i:i+1]):\n",
    "        str1=r[i:i+1]\n",
    "        print(\"Match motif\",str1)\n",
    "        file1=open(\"motoutput.txt\",\"a\")\n",
    "        file1.write(str1+\" \")\n",
    "    i+=1 "
   ]
  },
  {
   "cell_type": "code",
   "execution_count": null,
   "id": "76b932c6",
   "metadata": {},
   "outputs": [],
   "source": []
  }
 ],
 "metadata": {
  "kernelspec": {
   "display_name": "Python 3 (ipykernel)",
   "language": "python",
   "name": "python3"
  },
  "language_info": {
   "codemirror_mode": {
    "name": "ipython",
    "version": 3
   },
   "file_extension": ".py",
   "mimetype": "text/x-python",
   "name": "python",
   "nbconvert_exporter": "python",
   "pygments_lexer": "ipython3",
   "version": "3.8.8"
  }
 },
 "nbformat": 4,
 "nbformat_minor": 5
}
