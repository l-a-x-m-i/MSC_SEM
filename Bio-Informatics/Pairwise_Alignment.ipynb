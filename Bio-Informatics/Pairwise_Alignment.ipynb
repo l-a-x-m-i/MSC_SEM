{
 "cells": [
  {
   "cell_type": "markdown",
   "id": "6d4cf1b3",
   "metadata": {},
   "source": [
    "#Aim: Write a Python/Java code to perform pairwise alignment. Take 2\n",
    "   sequences from user and calculate the score."
   ]
  },
  {
   "cell_type": "code",
   "execution_count": 2,
   "id": "0df43e56",
   "metadata": {},
   "outputs": [
    {
     "name": "stdout",
     "output_type": "stream",
     "text": [
      "First sequence :abcvfc\n",
      "Second sequence :abbcvf\n",
      "\n",
      "['A', 'B', 'C', 'V', 'F', 'C']\n",
      "['A', 'B', 'B', 'C', 'V', 'F']\n",
      "['1', '1', '0', '0', '0', '0']\n",
      "Score 2\n"
     ]
    }
   ],
   "source": [
    "def gab(seq_1,seq_2):\n",
    "    if len(seq_1)==len(seq_2):\n",
    "            print()\n",
    "    else:\n",
    "        k = int(input(\"Enter the position to insert gab :\"))\n",
    "        if (len(seq_1)<len(seq_2)):\n",
    "            seq_1.insert(k,'-')\n",
    "        else :\n",
    "            seq_2.insert(k,'-')\n",
    "    return (seq_1,seq_2)\n",
    "\n",
    "score = []\n",
    "seq_1 = list(input(\"First sequence :\",))\n",
    "seq_2 = list(input(\"Second sequence :\"))\n",
    "gab(seq_1,seq_2)\n",
    "for j in range(len(seq_1)):\n",
    "    seq_1[j]=seq_1[j].upper()\n",
    "\n",
    "for m in range(len(seq_2)):\n",
    "    seq_2[m] = seq_2[m].upper()\n",
    "print(seq_1)\n",
    "print(seq_2)\n",
    "value = 0\n",
    "for i in range(0,len(seq_1)):\n",
    "    if(seq_1[i] == seq_2[i]):\n",
    "        score.append('1')\n",
    "        value += 1\n",
    "    else:\n",
    "        score.append('0')\n",
    "print(score)\n",
    "print(\"Score\",value)\n"
   ]
  },
  {
   "cell_type": "code",
   "execution_count": null,
   "id": "ccfd0bd8",
   "metadata": {},
   "outputs": [],
   "source": []
  }
 ],
 "metadata": {
  "kernelspec": {
   "display_name": "Python 3 (ipykernel)",
   "language": "python",
   "name": "python3"
  },
  "language_info": {
   "codemirror_mode": {
    "name": "ipython",
    "version": 3
   },
   "file_extension": ".py",
   "mimetype": "text/x-python",
   "name": "python",
   "nbconvert_exporter": "python",
   "pygments_lexer": "ipython3",
   "version": "3.8.8"
  }
 },
 "nbformat": 4,
 "nbformat_minor": 5
}
