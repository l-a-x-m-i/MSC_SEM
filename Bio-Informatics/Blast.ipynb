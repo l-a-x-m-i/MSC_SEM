{
 "cells": [
  {
   "cell_type": "markdown",
   "id": "dff436bb",
   "metadata": {},
   "source": [
    "Aim: Perform a BLAST search on any genes sequence and writer a\n",
    "java/python code to count the no of repetition of each nucleotide in the\n",
    "sequence."
   ]
  },
  {
   "cell_type": "code",
   "execution_count": 4,
   "id": "83222356",
   "metadata": {},
   "outputs": [
    {
     "name": "stdout",
     "output_type": "stream",
     "text": [
      "score of A is  2313\n",
      "score of C is  1162\n",
      "score of T is  2465\n",
      "score of G is  1060\n"
     ]
    }
   ],
   "source": [
    "file=open(\"C://Users//Akshay//Desktop//Bio-Informatics//Variola.txt\",\"r\")\n",
    "r=file.read()\n",
    "size=len(r)\n",
    "score_A=0\n",
    "score_C=0\n",
    "score_T=0\n",
    "score_G=0\n",
    "for i in range(size):\n",
    "    if(r[i]=='A'):\n",
    "            score_A+=1\n",
    "    elif (r[i]=='C'):\n",
    "            score_C+=1\n",
    "    elif (r[i]=='T'):\n",
    "            score_T+=1\n",
    "    elif (r[i]=='G'):\n",
    "            score_G+=1\n",
    "print(\"score of A is \",score_A)\n",
    "print(\"score of C is \",score_C)\n",
    "print(\"score of T is \",score_T)\n",
    "print(\"score of G is \",score_G) \n",
    "\n",
    "        "
   ]
  },
  {
   "cell_type": "code",
   "execution_count": null,
   "id": "aba66b40",
   "metadata": {},
   "outputs": [],
   "source": []
  },
  {
   "cell_type": "code",
   "execution_count": null,
   "id": "e89b761d",
   "metadata": {},
   "outputs": [],
   "source": []
  }
 ],
 "metadata": {
  "kernelspec": {
   "display_name": "Python 3 (ipykernel)",
   "language": "python",
   "name": "python3"
  },
  "language_info": {
   "codemirror_mode": {
    "name": "ipython",
    "version": 3
   },
   "file_extension": ".py",
   "mimetype": "text/x-python",
   "name": "python",
   "nbconvert_exporter": "python",
   "pygments_lexer": "ipython3",
   "version": "3.8.8"
  }
 },
 "nbformat": 4,
 "nbformat_minor": 5
}
