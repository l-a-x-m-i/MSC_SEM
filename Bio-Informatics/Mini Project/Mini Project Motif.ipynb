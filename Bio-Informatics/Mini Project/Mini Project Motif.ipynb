{
 "cells": [
  {
   "cell_type": "markdown",
   "id": "7d85553b",
   "metadata": {},
   "source": [
    "Name : Laxmi Shejwal \n",
    "    \n",
    "Roll No: 17"
   ]
  },
  {
   "cell_type": "code",
   "execution_count": 1,
   "id": "b958dad0",
   "metadata": {},
   "outputs": [
    {
     "name": "stdout",
     "output_type": "stream",
     "text": [
      "Enter a file name >\tC://Users//Akshay//Downloads//Homo_Sapiens_chromosomes_17.txt\n",
      "\n",
      "\n",
      "Motif generation successful.\n",
      "\n",
      "Motif length: 9\n",
      "\n",
      "Motif: TCAGACTTC\n",
      "Enter a file name to be searched >\tC://Users//Akshay//Downloads//Homo_Sapiens_chromosomes_17.txt\n",
      "Given motif is found at index:\t 11083\n"
     ]
    }
   ],
   "source": [
    "from random import randint\n",
    "\n",
    "def motif(input_file_name : str) -> str:\n",
    "    with open(input_file_name) as input_file_handle:\n",
    "        input_file_data = input_file_handle.read()\n",
    "        input_file_handle.close()\n",
    "    \n",
    "    input_file_data = input_file_data.replace(\"\\n\", \"\")\n",
    "    \n",
    "    #motif_length = randint(2, len(input_file_data) - 1)\n",
    "    motif_length = randint(2, 10)\n",
    "    start_index = randint(0, len(input_file_data) - motif_length)\n",
    "    \n",
    "    return input_file_data[start_index : start_index + motif_length]\n",
    "\n",
    "def search_for_motif(motif : str, search_file_name : str) -> int:\n",
    "    with open(search_file_name) as search_file_handle:\n",
    "        search_file_data = search_file_handle.read()\n",
    "        search_file_handle.close()\n",
    "    \n",
    "    search_file_data = search_file_data.replace(\"\\n\", \"\")\n",
    "    \n",
    "    index = search_file_data.find(motif)\n",
    "    \n",
    "    return index\n",
    "\n",
    "if __name__ == \"__main__\":\n",
    "    input_file_name = input(\"Enter a file name >\\t\")\n",
    "    generated_motif = motif(input_file_name)\n",
    "    print(\"\\n\\nMotif generation successful.\")\n",
    "    print(f\"\\nMotif length: {len(generated_motif)}\")\n",
    "    print(f\"\\nMotif: {generated_motif}\")\n",
    "    \n",
    "    search_file_name = input(\"Enter a file name to be searched >\\t\")\n",
    "    index = search_for_motif(generated_motif, search_file_name)\n",
    "    \n",
    "    if index > 0:\n",
    "        print(\"Given motif is found at index:\\t\", index)\n",
    "    else:\n",
    "        print(\"Motif not found in document\")"
   ]
  },
  {
   "cell_type": "code",
   "execution_count": null,
   "id": "75bf41bc",
   "metadata": {},
   "outputs": [],
   "source": []
  }
 ],
 "metadata": {
  "kernelspec": {
   "display_name": "Python 3 (ipykernel)",
   "language": "python",
   "name": "python3"
  },
  "language_info": {
   "codemirror_mode": {
    "name": "ipython",
    "version": 3
   },
   "file_extension": ".py",
   "mimetype": "text/x-python",
   "name": "python",
   "nbconvert_exporter": "python",
   "pygments_lexer": "ipython3",
   "version": "3.8.8"
  }
 },
 "nbformat": 4,
 "nbformat_minor": 5
}
