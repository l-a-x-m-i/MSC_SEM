{
 "cells": [
  {
   "cell_type": "markdown",
   "id": "4f97ad3b",
   "metadata": {},
   "source": [
    "Aim: Generate a regular expression enter three protein sequence of three\n",
    "different organism. Write Python/Java code to find regular expression for\n",
    "this sequences."
   ]
  },
  {
   "cell_type": "code",
   "execution_count": 2,
   "id": "841d28ac",
   "metadata": {},
   "outputs": [
    {
     "name": "stdout",
     "output_type": "stream",
     "text": [
      "Enter the number of sequence: 4\n",
      "Enter all the sequences\n",
      "A D L G A V F A L C D R Y F Q \n",
      "S D V G P R S C F C E R F Y Q \n",
      "A D L G R T Q L R C D R Y Y Q \n",
      "A D I G Q P H S L C E R Y F Q\n",
      "AS-D-LIV-G-x-x-x-x-RLF-C-ED-R-FY-FY-Q\n"
     ]
    }
   ],
   "source": [
    "def gen_reg_exp(seq_list, no_of_col):\n",
    "    final_list=[]\n",
    "    for colnum in range(no_of_col):\n",
    "        collist=[]\n",
    "        for colseq in seq_list:\n",
    "            collist.append(colseq[colnum])\n",
    "        if len(set(collist))==len(collist):\n",
    "        #print(final_list)\n",
    "            final_list.append('x')\n",
    "        else:\n",
    "            if len(set(collist))==1:\n",
    "                    final_list.append(collist[0])\n",
    "            else:\n",
    "                    final_list.append(''.join(set(collist)))\n",
    "    display_output(final_list) \n",
    "def display_output(final_list):\n",
    "    print(*final_list, sep='-')\n",
    "    \n",
    "no_of_seq=int(input(\"Enter the number of sequence: \"))\n",
    "print(\"Enter all the sequences\")\n",
    "seq_list=[]\n",
    "for _ in range(no_of_seq):\n",
    "    seq_list.append(list(map(str, input(\"\").split())))\n",
    "gen_reg_exp(seq_list, len(seq_list[0]))"
   ]
  },
  {
   "cell_type": "code",
   "execution_count": null,
   "id": "b30501b2",
   "metadata": {},
   "outputs": [],
   "source": []
  }
 ],
 "metadata": {
  "kernelspec": {
   "display_name": "Python 3 (ipykernel)",
   "language": "python",
   "name": "python3"
  },
  "language_info": {
   "codemirror_mode": {
    "name": "ipython",
    "version": 3
   },
   "file_extension": ".py",
   "mimetype": "text/x-python",
   "name": "python",
   "nbconvert_exporter": "python",
   "pygments_lexer": "ipython3",
   "version": "3.8.8"
  }
 },
 "nbformat": 4,
 "nbformat_minor": 5
}
