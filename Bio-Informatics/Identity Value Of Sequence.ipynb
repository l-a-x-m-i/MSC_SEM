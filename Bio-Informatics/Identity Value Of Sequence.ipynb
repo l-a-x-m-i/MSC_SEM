{
 "cells": [
  {
   "cell_type": "markdown",
   "id": "69d436cb",
   "metadata": {},
   "source": [
    "Aim: Write a Python/Java code to find the identity value of a given\n",
    "sequences. Take the sequence from user."
   ]
  },
  {
   "cell_type": "code",
   "execution_count": 2,
   "id": "16133461",
   "metadata": {},
   "outputs": [
    {
     "name": "stdout",
     "output_type": "stream",
     "text": [
      "First sequence :abcvfdg\n",
      "Second sequence :abvgcfd\n",
      "\n",
      "['A', 'B', 'C', 'V', 'F', 'D', 'G']\n",
      "['A', 'B', 'V', 'G', 'C', 'F', 'D']\n",
      "Matching Score:: 7\n",
      "Identity of the sequences:: 14.285714285714285\n"
     ]
    }
   ],
   "source": [
    "def gab(seq_1,seq_2):\n",
    "    if len(seq_1)==len(seq_2):\n",
    "            print()\n",
    "    else:\n",
    "        k = int(input(\"Enter the position to insert gab :\"))\n",
    "        if (len(seq_1)<len(seq_2)):\n",
    "            seq_1.insert(k,'-')\n",
    "        else :\n",
    "            seq_2.insert(k,'-')\n",
    "    return (seq_1,seq_2)\n",
    "\n",
    "score = []\n",
    "seq_1 = list(input(\"First sequence :\",))\n",
    "seq_2 = list(input(\"Second sequence :\"))\n",
    "gab(seq_1,seq_2)\n",
    "for j in range(len(seq_1)):\n",
    "    seq_1[j]=seq_1[j].upper()\n",
    "\n",
    "for m in range(len(seq_2)):\n",
    "    seq_2[m] = seq_2[m].upper()\n",
    "print(seq_1)\n",
    "print(seq_2)\n",
    "score = 0\n",
    "length = len(seq_1)\n",
    "total_elements = len(seq_1)*len(seq_2)\n",
    "for i in range(0,length):\n",
    "    for j in range(0,length):\n",
    "        if(seq_1[i] == seq_2[j]):\n",
    "             score = score + 1\n",
    "identity=(score/total_elements)*100\n",
    "print(\"Matching Score::\",score)\n",
    "print(\"Identity of the sequences::\",identity) "
   ]
  },
  {
   "cell_type": "code",
   "execution_count": null,
   "id": "f59cdfef",
   "metadata": {},
   "outputs": [],
   "source": []
  }
 ],
 "metadata": {
  "kernelspec": {
   "display_name": "Python 3 (ipykernel)",
   "language": "python",
   "name": "python3"
  },
  "language_info": {
   "codemirror_mode": {
    "name": "ipython",
    "version": 3
   },
   "file_extension": ".py",
   "mimetype": "text/x-python",
   "name": "python",
   "nbconvert_exporter": "python",
   "pygments_lexer": "ipython3",
   "version": "3.8.8"
  }
 },
 "nbformat": 4,
 "nbformat_minor": 5
}
