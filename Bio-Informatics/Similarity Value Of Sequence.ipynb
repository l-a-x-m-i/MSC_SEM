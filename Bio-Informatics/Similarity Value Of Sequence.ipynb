{
 "cells": [
  {
   "cell_type": "markdown",
   "id": "5aa66087",
   "metadata": {},
   "source": [
    "Aim: Write a Python/Java code to find the Similarity value of a given\n",
    "sequences. Take the sequence from user."
   ]
  },
  {
   "cell_type": "code",
   "execution_count": 4,
   "id": "a47607e6",
   "metadata": {},
   "outputs": [
    {
     "name": "stdout",
     "output_type": "stream",
     "text": [
      "Enter the first sequence ::abcvdgfhijk\n",
      "Enter the second sequence ::abgcvfghji\n",
      "How many elements for similarity condition ?2\n",
      "Enter an element:a\n",
      "How many element is it similar to ?2\n",
      "what is it similar to ?j\n",
      "what is it similar to ?i\n",
      "Enter an element:c\n",
      "How many element is it similar to ?3\n",
      "what is it similar to ?v\n",
      "what is it similar to ?f\n",
      "what is it similar to ?g\n",
      "['a', 'b', 'c', 'v', 'd', 'g', 'f', 'h', 'i', 'j', 'k']\n",
      "['a', 'b', 'g', 'c', 'v', 'f', 'g', 'h', 'j', 'i']\n",
      "[['a', 'j', 'i'], ['c', 'v', 'f', 'g']]\n",
      "54.54545454545455 %\n"
     ]
    }
   ],
   "source": [
    "def compare(o,t,s):\n",
    "    print(o)\n",
    "    print(t)\n",
    "    print(s)\n",
    " #checking if similar\n",
    "    score=0\n",
    "    for i in range(len(o)):\n",
    "        for j in range(len(s)):\n",
    "\n",
    "             if o[i] in s[j] and t[i] in s[j] and o[i] != t[i]:\n",
    "                    score+=1\n",
    " #calculating similarity\n",
    "    similarity= (score*100)/len(o)\n",
    "    return similarity\n",
    "\n",
    "seq_01 = input(\"Enter the first sequence ::\")\n",
    "seq_02 = input(\"Enter the second sequence ::\")\n",
    "num = int(input(\"How many elements for similarity condition ?\"))\n",
    "similarity = []\n",
    "for i in range(0, num):\n",
    "    a = input(\"Enter an element:\")\n",
    "    c = int(input(\"How many element is it similar to ?\"))\n",
    "    similarity.append([])\n",
    "    similarity[i].append(a)\n",
    "\n",
    "    for j in range(0, c):\n",
    "        b = input(\"what is it similar to ?\")\n",
    "        similarity[i].append(b)\n",
    "print(compare(list(seq_01), list(seq_02), similarity), \"%\")"
   ]
  },
  {
   "cell_type": "code",
   "execution_count": null,
   "id": "bc5d4f00",
   "metadata": {},
   "outputs": [],
   "source": []
  }
 ],
 "metadata": {
  "kernelspec": {
   "display_name": "Python 3 (ipykernel)",
   "language": "python",
   "name": "python3"
  },
  "language_info": {
   "codemirror_mode": {
    "name": "ipython",
    "version": 3
   },
   "file_extension": ".py",
   "mimetype": "text/x-python",
   "name": "python",
   "nbconvert_exporter": "python",
   "pygments_lexer": "ipython3",
   "version": "3.8.8"
  }
 },
 "nbformat": 4,
 "nbformat_minor": 5
}
